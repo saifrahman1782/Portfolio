{
 "cells": [
  {
   "cell_type": "code",
   "execution_count": null,
   "id": "bd141447",
   "metadata": {},
   "outputs": [],
   "source": [
    "import pandas as pd\n",
    "from sklearn.model_selection import train_test_split\n",
    "import numpy as np\n",
    "from sklearn.ensemble import RandomForestClassifier\n",
    "from sklearn import preprocessing\n",
    "from sklearn.preprocessing import MinMaxScaler\n",
    "from sklearn.preprocessing import StandardScaler\n",
    "from sklearn.pipeline import make_pipeline\n",
    "from sklearn.metrics import confusion_matrix, classification_report\n",
    "import seaborn as sns\n",
    "from matplotlib import pyplot as plt\n",
    "from pandas.plotting import andrews_curves\n",
    "from sklearn.metrics import r2_score\n",
    "from sklearn.utils.multiclass import unique_labels\n",
    "%matplotlib inline"
   ]
  },
  {
   "cell_type": "code",
   "execution_count": null,
   "id": "4b3385e9",
   "metadata": {},
   "outputs": [],
   "source": [
    "df = pd.read_excel('C:/Users/saifr/Desktop/Solar_Flares_Dataset.xlsx')\n",
    "Attributes = list(df.columns)\n",
    "Attributes"
   ]
  },
  {
   "cell_type": "code",
   "execution_count": null,
   "id": "3f05c6c9",
   "metadata": {},
   "outputs": [],
   "source": [
    "df.shape"
   ]
  },
  {
   "cell_type": "code",
   "execution_count": null,
   "id": "ba52db68",
   "metadata": {},
   "outputs": [],
   "source": [
    "df.describe()"
   ]
  },
  {
   "cell_type": "code",
   "execution_count": null,
   "id": "61c79148",
   "metadata": {},
   "outputs": [],
   "source": [
    "df.rename(columns = {'\\xa0Activity':'Activity','Evolution\\xa0':'Evolution',\n",
    "                     'Previous 24 hour flare activity code\\xa0':'Previous 24 hour flare activity code',\n",
    "                    '. Area of the largest spot\\xa0':'. Area of the largest spot',\n",
    "                    'M-class flares\\xa0':'M-Class Flares','X-class flares':'X-Class Flares'},inplace=True)"
   ]
  },
  {
   "cell_type": "code",
   "execution_count": null,
   "id": "9a384c41",
   "metadata": {},
   "outputs": [],
   "source": [
    "df['modified Zurich class'].replace(['A'],['1.0'],inplace=True)\n",
    "df['modified Zurich class'].replace(['B'],['2.0'],inplace=True)\n",
    "df['modified Zurich class'].replace(['C'],['3.0'],inplace=True)\n",
    "df['modified Zurich class'].replace(['D'],['4.0'],inplace=True)\n",
    "df['modified Zurich class'].replace(['E'],['5.0'],inplace=True)\n",
    "df['modified Zurich class'].replace(['F'],['6.0'],inplace=True)\n",
    "df['modified Zurich class'].replace(['H'],['7.0'],inplace=True)\n",
    "\n",
    "df['largest spot size'].replace(['X'],['8.0'],inplace=True)\n",
    "df['largest spot size'].replace(['R'],['9.0'],inplace=True)\n",
    "df['largest spot size'].replace(['S'],['10.0'],inplace=True)\n",
    "df['largest spot size'].replace(['A'],['1.0'],inplace=True)\n",
    "df['largest spot size'].replace(['H'],['8.0'],inplace=True)\n",
    "df['largest spot size'].replace(['K'],['11.0'],inplace=True)\n",
    "\n",
    "df['spot distribution'].replace(['X'],['23.0'],inplace=True)\n",
    "df['spot distribution'].replace(['O'],['14.0'],inplace=True)\n",
    "df['spot distribution'].replace(['I'],['9.0'],inplace=True)\n",
    "df['spot distribution'].replace(['C'],['3.0'],inplace=True)"
   ]
  },
  {
   "cell_type": "code",
   "execution_count": null,
   "id": "0501492a",
   "metadata": {},
   "outputs": [],
   "source": [
    "df['C-Class Flares'].value_counts()"
   ]
  },
  {
   "cell_type": "code",
   "execution_count": null,
   "id": "e51f3d91",
   "metadata": {},
   "outputs": [],
   "source": [
    "df['M-Class Flares'].value_counts()"
   ]
  },
  {
   "cell_type": "code",
   "execution_count": null,
   "id": "d77e804a",
   "metadata": {},
   "outputs": [],
   "source": [
    "df['X-Class Flares'].value_counts()"
   ]
  },
  {
   "cell_type": "code",
   "execution_count": null,
   "id": "18601f48",
   "metadata": {},
   "outputs": [],
   "source": [
    "df.head(5)"
   ]
  },
  {
   "cell_type": "code",
   "execution_count": null,
   "id": "29f9bccd",
   "metadata": {},
   "outputs": [],
   "source": [
    "df.isnull().values.any()"
   ]
  },
  {
   "cell_type": "code",
   "execution_count": null,
   "id": "ea373ef6",
   "metadata": {},
   "outputs": [],
   "source": [
    "feature_columns = ['modified Zurich class',\n",
    "                   'largest spot size',\n",
    "                   'spot distribution',\n",
    "                   'Activity',\n",
    "                   'Evolution',\n",
    "                   'Previous 24 hour flare activity code',\n",
    "                   'Historically-complex',\n",
    "                   \"Did region become historically complex on this pass across the sun's disk\",\n",
    "                   'Area',\n",
    "                   '. Area of the largest spot']\n",
    "\n",
    "X = df[feature_columns]\n",
    "y = df['C-Class Flares']\n",
    "\n",
    "X_train, X_test, y_train, y_test = train_test_split(X, y, test_size = 0.7,random_state=45)"
   ]
  },
  {
   "cell_type": "code",
   "execution_count": null,
   "id": "3f758ff6",
   "metadata": {},
   "outputs": [],
   "source": [
    "X_train"
   ]
  },
  {
   "cell_type": "code",
   "execution_count": null,
   "id": "c49ec46e",
   "metadata": {},
   "outputs": [],
   "source": [
    "y_train"
   ]
  },
  {
   "cell_type": "code",
   "execution_count": null,
   "id": "1097280e",
   "metadata": {},
   "outputs": [],
   "source": [
    "model = make_pipeline(MinMaxScaler(),\n",
    "                      StandardScaler(),\n",
    "                      RandomForestClassifier(n_estimators=100))\n",
    "model.fit(X, y)"
   ]
  },
  {
   "cell_type": "code",
   "execution_count": null,
   "id": "9f0cd603",
   "metadata": {},
   "outputs": [],
   "source": [
    "model.score(X_test,y_test)"
   ]
  },
  {
   "cell_type": "code",
   "execution_count": null,
   "id": "c45b5aec",
   "metadata": {},
   "outputs": [],
   "source": [
    "model.score(X_train, y_train)"
   ]
  },
  {
   "cell_type": "code",
   "execution_count": null,
   "id": "bc3afd20",
   "metadata": {},
   "outputs": [],
   "source": [
    "y_predict = model.predict(X_test)\n",
    "y_predict"
   ]
  },
  {
   "cell_type": "code",
   "execution_count": null,
   "id": "58a45a15",
   "metadata": {},
   "outputs": [],
   "source": [
    "def plotting2(y_true, y_pred):\n",
    "    labels = unique_labels(y_test)\n",
    "    column = [f'Predicted {label}' for label in labels]\n",
    "    indices = [f'Actual {label}' for label in labels]\n",
    "    table = pd.DataFrame(confusion_matrix(y_true, y_pred), columns=column, index=indices)\n",
    "\n",
    "    return sns.heatmap(table, annot = True, fmt='d', cmap='viridis')"
   ]
  },
  {
   "cell_type": "code",
   "execution_count": null,
   "id": "07a08058",
   "metadata": {},
   "outputs": [],
   "source": [
    "plotting2(y_test, y_predict)"
   ]
  },
  {
   "cell_type": "code",
   "execution_count": null,
   "id": "a820a0dc",
   "metadata": {},
   "outputs": [],
   "source": [
    "unique_labels(y_test)"
   ]
  },
  {
   "cell_type": "code",
   "execution_count": null,
   "id": "ae81a7b9",
   "metadata": {},
   "outputs": [],
   "source": [
    "print(classification_report(y_test, y_predict))"
   ]
  }
 ],
 "metadata": {
  "kernelspec": {
   "display_name": "Python 3 (ipykernel)",
   "language": "python",
   "name": "python3"
  },
  "language_info": {
   "codemirror_mode": {
    "name": "ipython",
    "version": 3
   },
   "file_extension": ".py",
   "mimetype": "text/x-python",
   "name": "python",
   "nbconvert_exporter": "python",
   "pygments_lexer": "ipython3",
   "version": "3.9.9"
  }
 },
 "nbformat": 4,
 "nbformat_minor": 5
}
